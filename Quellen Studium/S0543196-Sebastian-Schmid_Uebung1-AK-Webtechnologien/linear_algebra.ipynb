{
 "cells": [
  {
   "cell_type": "markdown",
   "metadata": {},
   "source": [
    "# Übung Lineare Algebra (10 Punkte)\n",
    "\n",
    "Diese kleine Übung soll die grundlegenden arithmetischen Opertationen auf Vektoren und Matrizen wiederholen. Bitte implementieren Sie die notwendigen Methoden in der Datei _ak1163051/lineare_algebra.py_ auf Basis von Listen und verifizieren Sie ihre Implementierungen mit der entsprechenden _numpy_-Operation, sofern dies möglich ist im Notebook. Ein Beispiel für die Notebook imple\n"
   ]
  },
  {
   "cell_type": "code",
   "execution_count": 1,
   "metadata": {},
   "outputs": [
    {
     "name": "stdout",
     "output_type": "stream",
     "text": [
      "Vektor a:  [168, 51, 31, 234, 41, 163, 75, 76, 150, 72]\n",
      "Vektor b:  [88, 166, 22, 79, 163, 47, 126, 225, 161, 188]\n"
     ]
    }
   ],
   "source": [
    "# Initialization of basic modules and global parameters... \n",
    "from ak1163051.lineare_algebra import *\n",
    "import numpy as np\n",
    "import random\n",
    "\n",
    "# create vectors a and b with 10 digits between 0-255\n",
    "vec_a = random.sample(range(255), 10)\n",
    "vec_b = random.sample(range(255), 10)\n",
    "\n",
    "print (\"Vektor a: \", vec_a)\n",
    "print (\"Vektor b: \", vec_b)"
   ]
  },
  {
   "cell_type": "markdown",
   "metadata": {},
   "source": [
    "## Addition und Subtraktion von Vektoren\n",
    "\n",
    "Berechnen Sie Betrag und Differenz von Vektoren nach folgendem Prinzip:\n",
    "\n",
    "<img src=\"ak1163051/pics/add_vector.svg\", width=250>\n",
    "\n",
    "<img src=\"ak1163051/pics/sub_vector.svg\", width=250>"
   ]
  },
  {
   "cell_type": "code",
   "execution_count": 2,
   "metadata": {},
   "outputs": [
    {
     "name": "stdout",
     "output_type": "stream",
     "text": [
      "Result of vector addition: [256, 217, 53, 313, 204, 210, 201, 301, 311, 260]\n",
      "Are the operations arithmetically equal? True\n",
      "Result of vector subtraction: [80, -115, 9, 155, -122, 116, -51, -149, -11, -116]\n",
      "Are the operations arithmetically equal? True\n"
     ]
    }
   ],
   "source": [
    "# Addition\n",
    "add_result = vector_add(vec_a, vec_b)\n",
    "print (\"Result of vector addition:\", add_result)\n",
    "print (\"Are the operations arithmetically equal?\", np.array_equal(add_result, np.add(vec_a,vec_b)))\n",
    "\n",
    "# Subtraction - please implement the methode in lineare_algebra.py \n",
    "sub_result = vector_sub(vec_a, vec_b)\n",
    "print (\"Result of vector subtraction:\", sub_result)\n",
    "print (\"Are the operations arithmetically equal?\", np.array_equal(sub_result, np.subtract(vec_a,vec_b)))"
   ]
  },
  {
   "cell_type": "markdown",
   "metadata": {
    "collapsed": true
   },
   "source": [
    "## Multiplikation von Vektoren mit einem Skalar (0,5 Punkt)\n",
    "\n",
    "Berechenen Sie die Multiplikation von einem Skalar und einem Vektoren nach folgendem Prinzip:\n",
    "\n",
    "<img src=\"ak1163051/pics/scalar_vector.svg\", width=200>"
   ]
  },
  {
   "cell_type": "code",
   "execution_count": 3,
   "metadata": {},
   "outputs": [
    {
     "name": "stdout",
     "output_type": "stream",
     "text": [
      "1:\t[7056 2142 1302 9828 1722 6846 3150 3192 6300 3024]\n",
      "2:\t[7056, 2142, 1302, 9828, 1722, 6846, 3150, 3192, 6300, 3024]\n"
     ]
    }
   ],
   "source": [
    "s = 42\n",
    "\n",
    "r = s * np.array(vec_a)\n",
    "r_ = vector_scalar_mul(s, vec_a)\n",
    "\n",
    "assert np.array_equal(r, r_ )"
   ]
  },
  {
   "cell_type": "markdown",
   "metadata": {
    "collapsed": true
   },
   "source": [
    "## Skalarprodukt (dot product) von Vektoren (1 Punkte)\n",
    "\n",
    "Berechnen Sie das Skalarprodukt von zwei Vektoren nach folgendem Prinzip:\n",
    "\n",
    "<img src=\"ak1163051/pics/inner_product_vector.svg\", width=400>"
   ]
  },
  {
   "cell_type": "code",
   "execution_count": 4,
   "metadata": {},
   "outputs": [
    {
     "name": "stdout",
     "output_type": "stream",
     "text": [
      "1:\t120998\n",
      "2:\t120998\n"
     ]
    }
   ],
   "source": [
    "# your code (numpy: https://docs.scipy.org/doc/numpy/reference/generated/numpy.dot.html)\n",
    "\n",
    "r = np.dot(vec_a, vec_b)\n",
    "r_ =  vector_dot(vec_a, vec_b)\n",
    "\n",
    "assert r == r_ "
   ]
  },
  {
   "cell_type": "markdown",
   "metadata": {},
   "source": [
    "## Erzeugen eine Matrix (1 Punkte)\n",
    "Erzuegen Sie mit Hilfe einer Methode eine Matrix mit der Dimension 10x10 von Zufallswerten zwischen 0 und 255."
   ]
  },
  {
   "cell_type": "code",
   "execution_count": 5,
   "metadata": {},
   "outputs": [
    {
     "name": "stdout",
     "output_type": "stream",
     "text": [
      "Matrix A: \n",
      "[[223  61  22 253 177 104 170  97 210 237]\n",
      " [ 11 219 197 171  35 186 156 126 239 251]\n",
      " [249 176 213  66  55 160 170  68  85 189]]\n"
     ]
    }
   ],
   "source": [
    "mat_a = create_random_matrix(10,3)\n",
    "print (f\"Matrix A: \\n{np.array(mat_a)}\")"
   ]
  },
  {
   "cell_type": "markdown",
   "metadata": {},
   "source": [
    "## Vektor-Matrix-Multiplikation (1 Punkte)\n",
    "\n",
    "Berechnen Sie das Produkt aus Vektor a und Matrix A nach folgendem Prinzip:\n",
    "\n",
    "<img src=\"ak1163051/pics/mult_vector_matrix.svg\", width=400>\n",
    "\n",
    "Merken Sie sich, dass die Dimensionen hierfür eine Vorraussetzung bilden.\n",
    "\n",
    "<img src=\"ak1163051/pics/mult_vector_matrix_dim.png\", width=300>"
   ]
  },
  {
   "cell_type": "code",
   "execution_count": 13,
   "metadata": {},
   "outputs": [],
   "source": [
    "#%debug\n",
    "# your code (numpy: https://docs.scipy.org/doc/numpy/reference/generated/numpy.dot.html)\n",
    "\n",
    "r = np.multiply(np.array(mat_a), np.array(vec_a)  )\n",
    "r_ = matrix_vector_mul(mat_a, vec_a)\n",
    "\n",
    "assert np.array_equal(r, r_ )"
   ]
  },
  {
   "cell_type": "markdown",
   "metadata": {},
   "source": [
    "## Transponente einer Matrix (1 Punkte)\n",
    "\n",
    "Manipulieren Sie die Matrix A, sodass die Transponente entsteht, siehe:\n",
    "    \n",
    "<img src=\"ak1163051/pics/trans_matrix_01.svg\", width=250>    \n",
    "<img src=\"ak1163051/pics/trans_matrix_02.svg\", width=250>    "
   ]
  },
  {
   "cell_type": "code",
   "execution_count": 10,
   "metadata": {
    "collapsed": true
   },
   "outputs": [],
   "source": [
    "# your code (https://docs.scipy.org/doc/numpy-1.13.0/reference/generated/numpy.transpose.html)\n",
    "assert np.array_equal(matrix_transpose(mat_a), np.array(mat_a).T)"
   ]
  },
  {
   "cell_type": "markdown",
   "metadata": {},
   "source": [
    "---\n",
    "\n",
    "## Verwendete Bibliotek\n",
    "\n"
   ]
  },
  {
   "cell_type": "code",
   "execution_count": null,
   "metadata": {
    "collapsed": true
   },
   "outputs": [],
   "source": [
    "# %load ak1163051/lineare_algebra.py\n",
    "\"\"\" Some functions for basic linear algebra operations based on python lists. \"\"\"\n",
    "\n",
    "from random import randint\n",
    "\n",
    "\n",
    "def vector_add(a, b):\n",
    "    assert len(a) == len(b)\n",
    "    return [x + b[i] for i, x in enumerate(a)]\n",
    "\n",
    "\n",
    "def vector_sub(a, b):\n",
    "    return [x - b[i] for i, x in enumerate(a)]\n",
    "\n",
    "\n",
    "def vector_scalar_mul(r, a):\n",
    "    return [r * x for x in a]\n",
    "\n",
    "\n",
    "def vector_dot(a, b):\n",
    "    assert len(a) == len(b)\n",
    "    return sum(a[i] * x for i, x in enumerate(b))\n",
    "\n",
    "\n",
    "def create_random_matrix(n, m):\n",
    "    return [[randint(0, 255) for _n in range(n)] for _m in range(m)]\n",
    "\n",
    "\n",
    "def matrix_vector_mul(mat, vec):\n",
    "    E = []\n",
    "    for c in mat: \n",
    "        E.append([r*vec[i] for i, r in enumerate(c)])\n",
    "    return E\n",
    "        \n",
    "    \n",
    "def matrix_transpose(a):\n",
    "    if not isinstance(a[0], list):\n",
    "        return a\n",
    "    s = len(a[0])\n",
    "    return [[row[i] for row in a] for i in range(s)]"
   ]
  }
 ],
 "metadata": {
  "anaconda-cloud": {},
  "kernelspec": {
   "display_name": "Python 3",
   "language": "python",
   "name": "python3"
  },
  "language_info": {
   "codemirror_mode": {
    "name": "ipython",
    "version": 3
   },
   "file_extension": ".py",
   "mimetype": "text/x-python",
   "name": "python",
   "nbconvert_exporter": "python",
   "pygments_lexer": "ipython3",
   "version": "3.6.3"
  }
 },
 "nbformat": 4,
 "nbformat_minor": 2
}
