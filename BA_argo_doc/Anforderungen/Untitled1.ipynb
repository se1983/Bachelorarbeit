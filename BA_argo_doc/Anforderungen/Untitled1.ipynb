{
 "cells": [
  {
   "cell_type": "code",
   "execution_count": 4,
   "metadata": {},
   "outputs": [],
   "source": [
    "import jinja2\n",
    "import os\n",
    "from jinja2 import Template\n",
    "\n",
    "import pandas as pd\n"
   ]
  },
  {
   "cell_type": "code",
   "execution_count": 5,
   "metadata": {},
   "outputs": [],
   "source": [
    "URL_DOC =   \"https://docs.google.com/spreadsheets/d/e/2PACX-1vQfFMHK_XVtNXex5pAPh6boF4qdBH0iB6_ndGWV\"\\\n",
    "            \"-FANyBXh1TB9MuIQ_Ex7gBlcrGOMO2Tn133NxVf1/pub?gid=0&single=true&output=csv\"\n",
    "anforderungen = pd.read_csv(URL_DOC)\n"
   ]
  },
  {
   "cell_type": "code",
   "execution_count": 6,
   "metadata": {},
   "outputs": [],
   "source": [
    "latex_jinja_env = jinja2.Environment(\n",
    "\tblock_start_string = '\\BLOCK{',\n",
    "\tblock_end_string = '}',\n",
    "\tvariable_start_string = '\\VAR{',\n",
    "\tvariable_end_string = '}',\n",
    "\tcomment_start_string = '\\#{',\n",
    "\tcomment_end_string = '}',\n",
    "\tline_statement_prefix = '%%',\n",
    "\tline_comment_prefix = '%#',\n",
    "\ttrim_blocks = True,\n",
    "\tautoescape = False,\n",
    "\tloader = jinja2.FileSystemLoader(os.path.abspath('.'))\n",
    ")"
   ]
  },
  {
   "cell_type": "code",
   "execution_count": null,
   "metadata": {},
   "outputs": [],
   "source": [
    "%%writefile jinja-test.tex\n",
    "\\documentclass{article}\n",
    "\\begin{document}\n",
    "\\section{Example}\n",
    "An example document using \\LaTeX, Python, and Jinja.\n",
    "\n",
    "% This is a regular LaTeX comment\n",
    "\\section{\\VAR{section1}}\n",
    "\\#{This is a long-form Jinja comment}\n",
    "\\begin{itemize}\n",
    "\\BLOCK{ for x in range(0, 3) }\n",
    "  \\item Counting: \\VAR{x}\n",
    "\\BLOCK{ endfor }\n",
    "\\end{itemize}\n",
    "\n",
    "\\section{\\VAR{section2}}\n",
    "%# This is a short-form Jinja comment\n",
    "\\begin{itemize}\n",
    "%% for x in range(0, 3)\n",
    "  \\item Counting: \\VAR{x}\n",
    "%% endfor\n",
    "\\end{itemize}\n",
    "\n",
    "\\end{document}"
   ]
  },
  {
   "cell_type": "code",
   "execution_count": 36,
   "metadata": {},
   "outputs": [
    {
     "name": "stdout",
     "output_type": "stream",
     "text": [
      "Overwriting anforderungen_jinja.tex\n"
     ]
    }
   ],
   "source": [
    "%%writefile anforderungen_jinja.tex\n",
    "\n",
    "\n",
    "\\begin{itemize}\n",
    "%% for a in anforderungen\n",
    "    \\item \\VAR{a}\n",
    "%% endfor\n",
    "\\end{itemize}"
   ]
  },
  {
   "cell_type": "code",
   "execution_count": 37,
   "metadata": {},
   "outputs": [
    {
     "name": "stdout",
     "output_type": "stream",
     "text": [
      "\n",
      "\n",
      "\\begin{itemize}\n",
      "    \\item Titel\n",
      "    \\item Priorität\n",
      "    \\item Aktoren\n",
      "    \\item Vorbedingungen\n",
      "    \\item Ablaufbeschreibung\n",
      "    \\item Auswirkungen\n",
      "    \\item Anmerkungen\n",
      "    \\item Kurzbeschreibung\n",
      "\\end{itemize}\n"
     ]
    }
   ],
   "source": [
    "\n",
    "template = latex_jinja_env.get_template('anforderungen_jinja.tex')\n",
    "print(template.render(anforderungen=anforderungen.to_dict(orient='list')))"
   ]
  },
  {
   "cell_type": "code",
   "execution_count": 39,
   "metadata": {},
   "outputs": [
    {
     "data": {
      "text/plain": [
       "{'Ablaufbeschreibung': {0: 'Über ein zentrales Skript wird die Aktualisierung der Datenbank angestoßen|Die Daten werden aus dem Binärformat ausgelesen|Die Daten werden vom CDF-Format  in ein relationales Schema überführt und in die Datenbank geschrieben',\n",
       "  1: 'Der Benutzer ruf die Seite auf|Es wird eine Schematische Kartendarstellung der Welt gezeichnet|Relevante Daten der ArgoFloats werden aus der Datenbank geholt|Die Messprofile werden anhand ihrer letzten Position auf der Weltkarte gezeichnet',\n",
       "  2: 'Der Benutzer kann über seine Maus und oder Keyboard die Darstellung der Karte ändern',\n",
       "  3: 'Über ein zentrales Skript wird der Adminisrator in die Lage versetzt, automatisch vom Distrributor bereitgestellte Daten herunterzuladen|Diese werden enpackt und auf der Festplatte des Servers abgelegt',\n",
       "  4: 'Die Messdaten einer spezifischen Boje werden aus der Datenbank entnommen.|Die ermittelten Daten werden auf der Webseite über einen Graphen dargestellt.',\n",
       "  5: 'Klick auf die Darstellung der Messboje | Die detailierten Daten werden aus der Datenbank geholt. ',\n",
       "  6: nan,\n",
       "  7: 'Berechnung des Trends | Trend wird im Plot der zu grunde liegenden Daten dargestellt',\n",
       "  8: nan,\n",
       "  9: nan,\n",
       "  10: nan},\n",
       " 'Aktoren': {0: 'Administrator',\n",
       "  1: 'Benutzer',\n",
       "  2: 'Benutzer',\n",
       "  3: 'Administrator',\n",
       "  4: 'Benutzer',\n",
       "  5: 'Benutzer',\n",
       "  6: 'Benutzer',\n",
       "  7: 'Benutzer',\n",
       "  8: 'Administrator',\n",
       "  9: 'Administrator',\n",
       "  10: 'Benutzer'},\n",
       " 'Anmerkungen': {0: nan,\n",
       "  1: nan,\n",
       "  2: nan,\n",
       "  3: 'Kombination mit [Datenbank neu einspielen]',\n",
       "  4: nan,\n",
       "  5: nan,\n",
       "  6: nan,\n",
       "  7: nan,\n",
       "  8: nan,\n",
       "  9: nan,\n",
       "  10: nan},\n",
       " 'Auswirkungen': {0: 'Es liegen aktualisiertre Daten vor',\n",
       "  1: nan,\n",
       "  2: 'Die Kartendarstellung wird für diesen Benutzer in einer veränderten Form dargestellt',\n",
       "  3: 'Es wird Speicherplatz auf dem Webserver verwendet um die Daten abzulegen.',\n",
       "  4: 'Die Messdaten werden als Graph auf der Webseite dargestellt',\n",
       "  5: nan,\n",
       "  6: nan,\n",
       "  7: nan,\n",
       "  8: nan,\n",
       "  9: nan,\n",
       "  10: nan},\n",
       " 'Kurzbeschreibung': {0: 'Aktualisierte Daten sollen über die Linuxshell des Servers komfortabel eingespielt werden können. Störungen im Frontened sollen dabei so gering wie möglich gehalten werden.',\n",
       "  1: 'Die Daten werden über eine Webbapplikation gezeichnet. Der Benutzer ist in der Lage sich einen Überblick über die letzte Position der Floats zu machen und kann über Farben codiert deren Status erkennen.',\n",
       "  2: 'Durch gewohnte Interaktionsmuster wird der Benutzer in die Lage versetzt, den Kartenausschnitt den er betrachtet zu verändern.',\n",
       "  3: 'Die monatlich veröffentlichten Daten werden automatisiert heruntergeladen.',\n",
       "  4: 'Damit der Benutzer die Messdaten erfassen kann, werden ihm die Daten als Graph gezeichnet dargestellt. Der Benutzer wählt eine spezifische Messboje und sieht daraufhin die gemessenen daten als Lineplot.',\n",
       "  5: 'Durch einen Klick auf die Darstellung einer Boje auf der gerenderten Karte wird der Benutzer in die Lage versetzt, mit dem jeweiligen Datensatz zu interagieren.  ',\n",
       "  6: 'Die Darstellung der Bojen auf der Landkarte wird verändert. Nicht ausgewählte Messstationen werden durch Farb- und oder Transparenzeffekte in den Hintergrund gebracht.| Der zeitliche Positionsverlauf der ausgewählten Messstation wird auf der Karte gerendert.',\n",
       "  7: 'Es wird eine Berechnung eines zeitlichen Trends berechnet. So wird der benutzer in die Lage versetzt, über den Verlauf und die zukünftige Entwicklung der Daten aussagen treffen zu können.',\n",
       "  8: 'Der Adminiostrator muss sich im System anmelden können. Hierbei benötigt er Zugriff auf Systemressourcen, Datenbank etc.',\n",
       "  9: nan,\n",
       "  10: nan},\n",
       " 'Priorität': {0: 'muss',\n",
       "  1: 'muss',\n",
       "  2: 'muss',\n",
       "  3: 'soll',\n",
       "  4: 'muss',\n",
       "  5: 'muss',\n",
       "  6: 'kann',\n",
       "  7: 'soll',\n",
       "  8: 'muss',\n",
       "  9: 'muss',\n",
       "  10: 'kann'},\n",
       " 'Titel': {0: 'Datenbank neu einspielen',\n",
       "  1: 'Karte betrachten',\n",
       "  2: 'Karteninteraktion',\n",
       "  3: 'Daten aktualisieren',\n",
       "  4: 'Anzeige Messdaten',\n",
       "  5: 'Interaktion Boje',\n",
       "  6: 'Auswahlmodus Boje',\n",
       "  7: 'Trendverlauf Messdaten',\n",
       "  8: 'Anmeldung im System',\n",
       "  9: 'Webserver gestartet',\n",
       "  10: 'Mouseovereffekt'},\n",
       " 'Vorbedingungen': {0: '[Anmeldung im System]|[Daten aktualisieren]',\n",
       "  1: '[Webserver gestartet]',\n",
       "  2: '[Karte betrachten]',\n",
       "  3: '[Anmeldung im System]',\n",
       "  4: '[Anmeldung im System]',\n",
       "  5: '[Karte betrachten]',\n",
       "  6: '[Interaktion Boje]',\n",
       "  7: '[Anzeige Messdaten]',\n",
       "  8: nan,\n",
       "  9: nan,\n",
       "  10: '[Karte betrachten]'}}"
      ]
     },
     "execution_count": 39,
     "metadata": {},
     "output_type": "execute_result"
    }
   ],
   "source": [
    "anforderungen.to_dict()"
   ]
  },
  {
   "cell_type": "code",
   "execution_count": null,
   "metadata": {},
   "outputs": [],
   "source": []
  }
 ],
 "metadata": {
  "kernelspec": {
   "display_name": "Python [conda root]",
   "language": "python",
   "name": "conda-root-py"
  },
  "language_info": {
   "codemirror_mode": {
    "name": "ipython",
    "version": 3
   },
   "file_extension": ".py",
   "mimetype": "text/x-python",
   "name": "python",
   "nbconvert_exporter": "python",
   "pygments_lexer": "ipython3",
   "version": "3.6.3"
  }
 },
 "nbformat": 4,
 "nbformat_minor": 2
}
